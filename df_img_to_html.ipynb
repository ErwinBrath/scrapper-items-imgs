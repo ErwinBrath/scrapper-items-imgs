{
 "cells": [
  {
   "cell_type": "code",
   "execution_count": 1,
   "metadata": {},
   "outputs": [],
   "source": [
    "import pandas as pd"
   ]
  },
  {
   "cell_type": "code",
   "execution_count": 2,
   "metadata": {},
   "outputs": [],
   "source": [
    "import pandas as pd\n",
    "\n",
    "def generate_html_with_images(df, output_file):\n",
    "    html = \"<html><head></head><body><table>\"\n",
    "    html += \"<tr><th>{}</th><th>{}</th></tr>\".format(df.columns[0], df.columns[1])\n",
    "    for i in range(len(df)):\n",
    "        row = df.iloc[i]\n",
    "        html += \"<tr><td>{}</td><td><img src='{}'></td></tr>\".format(row[df.columns[0]], row[df.columns[1]])\n",
    "    html += \"</table></body></html>\"\n",
    "\n",
    "    with open(output_file, 'w') as file:\n",
    "        file.write(html)\n",
    "\n",
    "# Ejemplo de DataFrame\n",
    "data = {\n",
    "    'campo': ['URL'],\n",
    "    'url': ['https://chat.openai.com/_next/image?url=https%3A%2F%2Flh3.googleusercontent.com%2Fa%2FAAcHTtfUyEYEGfU8_bs2ybFFWJB4-0yzGDUqutlbxA__91M%3Ds96-c&w=48&q=75']\n",
    "}\n",
    "df = pd.DataFrame(data)\n",
    "\n",
    "# Generar el archivo HTML\n",
    "output_file = 'output.html'\n",
    "generate_html_with_images(df, output_file)"
   ]
  }
 ],
 "metadata": {
  "kernelspec": {
   "display_name": "base",
   "language": "python",
   "name": "python3"
  },
  "language_info": {
   "codemirror_mode": {
    "name": "ipython",
    "version": 3
   },
   "file_extension": ".py",
   "mimetype": "text/x-python",
   "name": "python",
   "nbconvert_exporter": "python",
   "pygments_lexer": "ipython3",
   "version": "3.9.13"
  },
  "orig_nbformat": 4
 },
 "nbformat": 4,
 "nbformat_minor": 2
}
