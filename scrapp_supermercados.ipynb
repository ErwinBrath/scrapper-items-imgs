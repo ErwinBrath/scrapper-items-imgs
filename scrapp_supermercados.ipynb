{
 "cells": [
  {
   "cell_type": "code",
   "execution_count": 79,
   "metadata": {},
   "outputs": [],
   "source": [
    "from selenium import webdriver\n",
    "from selenium.webdriver.support.ui import WebDriverWait\n",
    "from selenium.webdriver.support.expected_conditions import visibility_of_element_located\n",
    "from selenium.webdriver.common.by import By\n",
    "\n",
    "from bs4 import BeautifulSoup\n",
    "\n",
    "import re\n",
    "\n",
    "import pandas as pd"
   ]
  },
  {
   "cell_type": "code",
   "execution_count": 105,
   "metadata": {},
   "outputs": [],
   "source": [
    "def driver_init():\n",
    "    options = webdriver.ChromeOptions()\n",
    "    options.add_argument('--ignore-certificate-errors')\n",
    "    # options.add_argument('--headless')\n",
    "    driver = webdriver.Chrome()\n",
    "    driver.set_window_size(1920,1080)\n",
    "    return driver\n",
    "\n",
    "def element_style_url(string):\n",
    "    string = 'background-position: center center; background-size: contain; background-image: url(\"https://images.lider.cl/wmtcl?source=url[file:/productos/4493165a.jpg]&sink\");'\n",
    "\n",
    "    # Utilizamos una expresión regular para buscar el patrón del URL\n",
    "    pattern = r'url\\(\"([^\"]+)\"\\)'\n",
    "    match = re.search(pattern, string)\n",
    "\n",
    "    if match:\n",
    "        url = match.group(1)\n",
    "    else:\n",
    "        print(\"No se encontró ninguna URL en el string.\")\n",
    "    return url "
   ]
  },
  {
   "cell_type": "code",
   "execution_count": 86,
   "metadata": {},
   "outputs": [],
   "source": [
    "#Scrapp pdp lider.cl"
   ]
  },
  {
   "cell_type": "code",
   "execution_count": 106,
   "metadata": {},
   "outputs": [],
   "source": [
    "def scrapp_pdp(sku):\n",
    "    url = f'https://www.lider.cl/supermercado/product/sku/{sku}'\n",
    "    driver = driver_init()\n",
    "    driver.get(url)\n",
    "    WebDriverWait(driver=driver, timeout=30).until(visibility_of_element_located((By.CLASS_NAME, 'product-detail-card__buttons-container')))\n",
    "    content = driver.page_source\n",
    "    driver.close()\n",
    "    soup = BeautifulSoup(content)\n",
    "    product_img_url = element_style_url(soup.find('figure', attrs={'class':'desktop__primary-image-container'})['style' ]).replace('&amp;','&')\n",
    "    data = {'sku':sku, \n",
    "            'url':url,\n",
    "            'product_img_url':product_img_url\n",
    "            }\n",
    "    df = pd.json_normalize(data)\n",
    "    return df"
   ]
  },
  {
   "cell_type": "code",
   "execution_count": 107,
   "metadata": {},
   "outputs": [],
   "source": [
    "sku=4493165\n",
    "df = scrapp_pdp(sku)"
   ]
  },
  {
   "cell_type": "code",
   "execution_count": 117,
   "metadata": {},
   "outputs": [],
   "source": [
    "def generate_html_with_images(df, output_file):\n",
    "    html = \"<html><head></head><body><table>\"\n",
    "    html += \"<tr><th>{}</th><th>{}</th></tr>\".format(df.columns[0], df.columns[1], df.columns[2])\n",
    "    for i in range(len(df)):\n",
    "        row = df.iloc[i]\n",
    "        html += \"<tr><td>{}</td><td><img src='{}'></td></tr>\".format(row[df.columns[0]], row[df.columns[1]], df.columns[2])\n",
    "    html += \"</table></body></html>\"\n",
    "\n",
    "    with open(output_file, 'w') as file:\n",
    "        file.write(html)"
   ]
  },
  {
   "cell_type": "code",
   "execution_count": 120,
   "metadata": {},
   "outputs": [
    {
     "data": {
      "text/html": [
       "<div>\n",
       "<style scoped>\n",
       "    .dataframe tbody tr th:only-of-type {\n",
       "        vertical-align: middle;\n",
       "    }\n",
       "\n",
       "    .dataframe tbody tr th {\n",
       "        vertical-align: top;\n",
       "    }\n",
       "\n",
       "    .dataframe thead th {\n",
       "        text-align: right;\n",
       "    }\n",
       "</style>\n",
       "<table border=\"1\" class=\"dataframe\">\n",
       "  <thead>\n",
       "    <tr style=\"text-align: right;\">\n",
       "      <th></th>\n",
       "      <th>sku</th>\n",
       "      <th>url</th>\n",
       "      <th>product_img_url</th>\n",
       "    </tr>\n",
       "  </thead>\n",
       "  <tbody>\n",
       "    <tr>\n",
       "      <th>0</th>\n",
       "      <td>4493165</td>\n",
       "      <td>https://www.lider.cl/supermercado/product/sku/...</td>\n",
       "      <td>https://images.lider.cl/wmtcl?source=url[file:...</td>\n",
       "    </tr>\n",
       "  </tbody>\n",
       "</table>\n",
       "</div>"
      ],
      "text/plain": [
       "       sku                                                url  \\\n",
       "0  4493165  https://www.lider.cl/supermercado/product/sku/...   \n",
       "\n",
       "                                     product_img_url  \n",
       "0  https://images.lider.cl/wmtcl?source=url[file:...  "
      ]
     },
     "execution_count": 120,
     "metadata": {},
     "output_type": "execute_result"
    }
   ],
   "source": [
    "df"
   ]
  },
  {
   "cell_type": "code",
   "execution_count": 140,
   "metadata": {},
   "outputs": [],
   "source": [
    "def generate_html_with_images(df,output_file):\n",
    "    html = \"<html><head></head><body><table>\"\n",
    "    html += f'''\n",
    "        <tr>\n",
    "            <th>{df.columns[0]}</th>\n",
    "            <th>{df.columns[1]}</th>\n",
    "            <th>{df.columns[2]}</th>\n",
    "        </tr>\n",
    "        '''\n",
    "    for i in range(len(df)):\n",
    "        row = df.iloc[i]\n",
    "        html += '''\n",
    "            <tr>\n",
    "                <td>{}</td>\n",
    "                <td>{}</td>\n",
    "                <td>\n",
    "                    <img src={}>\n",
    "                </td>\n",
    "            </tr>'''.format(row[df.columns[0]], row[df.columns[1]],row[df.columns[2]])\n",
    "        html += \"</table></body></html>\"\n",
    "    with open(output_file, 'w') as file:\n",
    "        file.write(html)\n",
    "    return html"
   ]
  },
  {
   "cell_type": "code",
   "execution_count": 141,
   "metadata": {},
   "outputs": [
    {
     "data": {
      "text/html": [
       "<div>\n",
       "<style scoped>\n",
       "    .dataframe tbody tr th:only-of-type {\n",
       "        vertical-align: middle;\n",
       "    }\n",
       "\n",
       "    .dataframe tbody tr th {\n",
       "        vertical-align: top;\n",
       "    }\n",
       "\n",
       "    .dataframe thead th {\n",
       "        text-align: right;\n",
       "    }\n",
       "</style>\n",
       "<table border=\"1\" class=\"dataframe\">\n",
       "  <thead>\n",
       "    <tr style=\"text-align: right;\">\n",
       "      <th></th>\n",
       "      <th>sku</th>\n",
       "      <th>url</th>\n",
       "      <th>product_img_url</th>\n",
       "    </tr>\n",
       "  </thead>\n",
       "  <tbody>\n",
       "    <tr>\n",
       "      <th>0</th>\n",
       "      <td>4493165</td>\n",
       "      <td>https://www.lider.cl/supermercado/product/sku/...</td>\n",
       "      <td>https://images.lider.cl/wmtcl?source=url[file:...</td>\n",
       "    </tr>\n",
       "  </tbody>\n",
       "</table>\n",
       "</div>"
      ],
      "text/plain": [
       "       sku                                                url  \\\n",
       "0  4493165  https://www.lider.cl/supermercado/product/sku/...   \n",
       "\n",
       "                                     product_img_url  \n",
       "0  https://images.lider.cl/wmtcl?source=url[file:...  "
      ]
     },
     "execution_count": 141,
     "metadata": {},
     "output_type": "execute_result"
    }
   ],
   "source": [
    "df"
   ]
  },
  {
   "cell_type": "code",
   "execution_count": 143,
   "metadata": {},
   "outputs": [
    {
     "name": "stdout",
     "output_type": "stream",
     "text": [
      "<html><head></head><body><table>\n",
      "        <tr>\n",
      "            <th>sku</th>\n",
      "            <th>url</th>\n",
      "            <th>product_img_url</th>\n",
      "        </tr>\n",
      "        \n",
      "            <tr>\n",
      "                <td>4493165</td>\n",
      "                <td>https://www.lider.cl/supermercado/product/sku/4493165</td>\n",
      "                <td>\n",
      "                    <img src=https://images.lider.cl/wmtcl?source=url[file:/productos/4493165a.jpg]&sink>\n",
      "                </td>\n",
      "            </tr></table></body></html>\n"
     ]
    }
   ],
   "source": [
    "# Generar el archivo HTML\n",
    "output_file = 'output.html'\n",
    "print(generate_html_with_images(df, output_file))"
   ]
  }
 ],
 "metadata": {
  "kernelspec": {
   "display_name": "base",
   "language": "python",
   "name": "python3"
  },
  "language_info": {
   "codemirror_mode": {
    "name": "ipython",
    "version": 3
   },
   "file_extension": ".py",
   "mimetype": "text/x-python",
   "name": "python",
   "nbconvert_exporter": "python",
   "pygments_lexer": "ipython3",
   "version": "3.9.13"
  },
  "orig_nbformat": 4
 },
 "nbformat": 4,
 "nbformat_minor": 2
}
